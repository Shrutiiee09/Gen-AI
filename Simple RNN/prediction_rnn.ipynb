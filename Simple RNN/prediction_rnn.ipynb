{
 "cells": [
  {
   "cell_type": "code",
   "execution_count": 1,
   "metadata": {},
   "outputs": [],
   "source": [
    "import numpy as np\n",
    "import tensorflow as tf\n",
    "from tensorflow.keras.datasets import imdb\n",
    "from tensorflow.keras.preprocessing import sequence\n",
    "from tensorflow.keras.models import load_model\n"
   ]
  },
  {
   "cell_type": "code",
   "execution_count": 2,
   "metadata": {},
   "outputs": [],
   "source": [
    "word_index=imdb.get_word_index()\n",
    "reverse_word_index={value: key for key, value in word_index.items()}"
   ]
  },
  {
   "cell_type": "code",
   "execution_count": 4,
   "metadata": {},
   "outputs": [
    {
     "name": "stderr",
     "output_type": "stream",
     "text": [
      "WARNING:absl:Compiled the loaded model, but the compiled metrics have yet to be built. `model.compile_metrics` will be empty until you train or evaluate the model.\n"
     ]
    },
    {
     "data": {
      "text/html": [
       "<pre style=\"white-space:pre;overflow-x:auto;line-height:normal;font-family:Menlo,'DejaVu Sans Mono',consolas,'Courier New',monospace\"><span style=\"font-weight: bold\">Model: \"sequential\"</span>\n",
       "</pre>\n"
      ],
      "text/plain": [
       "\u001b[1mModel: \"sequential\"\u001b[0m\n"
      ]
     },
     "metadata": {},
     "output_type": "display_data"
    },
    {
     "data": {
      "text/html": [
       "<pre style=\"white-space:pre;overflow-x:auto;line-height:normal;font-family:Menlo,'DejaVu Sans Mono',consolas,'Courier New',monospace\">┏━━━━━━━━━━━━━━━━━━━━━━━━━━━━━━━━━┳━━━━━━━━━━━━━━━━━━━━━━━━┳━━━━━━━━━━━━━━━┓\n",
       "┃<span style=\"font-weight: bold\"> Layer (type)                    </span>┃<span style=\"font-weight: bold\"> Output Shape           </span>┃<span style=\"font-weight: bold\">       Param # </span>┃\n",
       "┡━━━━━━━━━━━━━━━━━━━━━━━━━━━━━━━━━╇━━━━━━━━━━━━━━━━━━━━━━━━╇━━━━━━━━━━━━━━━┩\n",
       "│ embedding (<span style=\"color: #0087ff; text-decoration-color: #0087ff\">Embedding</span>)           │ (<span style=\"color: #00af00; text-decoration-color: #00af00\">32</span>, <span style=\"color: #00af00; text-decoration-color: #00af00\">500</span>, <span style=\"color: #00af00; text-decoration-color: #00af00\">128</span>)         │     <span style=\"color: #00af00; text-decoration-color: #00af00\">1,280,000</span> │\n",
       "├─────────────────────────────────┼────────────────────────┼───────────────┤\n",
       "│ simple_rnn (<span style=\"color: #0087ff; text-decoration-color: #0087ff\">SimpleRNN</span>)          │ (<span style=\"color: #00af00; text-decoration-color: #00af00\">32</span>, <span style=\"color: #00af00; text-decoration-color: #00af00\">128</span>)              │        <span style=\"color: #00af00; text-decoration-color: #00af00\">32,896</span> │\n",
       "├─────────────────────────────────┼────────────────────────┼───────────────┤\n",
       "│ dense (<span style=\"color: #0087ff; text-decoration-color: #0087ff\">Dense</span>)                   │ (<span style=\"color: #00af00; text-decoration-color: #00af00\">32</span>, <span style=\"color: #00af00; text-decoration-color: #00af00\">1</span>)                │           <span style=\"color: #00af00; text-decoration-color: #00af00\">129</span> │\n",
       "└─────────────────────────────────┴────────────────────────┴───────────────┘\n",
       "</pre>\n"
      ],
      "text/plain": [
       "┏━━━━━━━━━━━━━━━━━━━━━━━━━━━━━━━━━┳━━━━━━━━━━━━━━━━━━━━━━━━┳━━━━━━━━━━━━━━━┓\n",
       "┃\u001b[1m \u001b[0m\u001b[1mLayer (type)                   \u001b[0m\u001b[1m \u001b[0m┃\u001b[1m \u001b[0m\u001b[1mOutput Shape          \u001b[0m\u001b[1m \u001b[0m┃\u001b[1m \u001b[0m\u001b[1m      Param #\u001b[0m\u001b[1m \u001b[0m┃\n",
       "┡━━━━━━━━━━━━━━━━━━━━━━━━━━━━━━━━━╇━━━━━━━━━━━━━━━━━━━━━━━━╇━━━━━━━━━━━━━━━┩\n",
       "│ embedding (\u001b[38;5;33mEmbedding\u001b[0m)           │ (\u001b[38;5;34m32\u001b[0m, \u001b[38;5;34m500\u001b[0m, \u001b[38;5;34m128\u001b[0m)         │     \u001b[38;5;34m1,280,000\u001b[0m │\n",
       "├─────────────────────────────────┼────────────────────────┼───────────────┤\n",
       "│ simple_rnn (\u001b[38;5;33mSimpleRNN\u001b[0m)          │ (\u001b[38;5;34m32\u001b[0m, \u001b[38;5;34m128\u001b[0m)              │        \u001b[38;5;34m32,896\u001b[0m │\n",
       "├─────────────────────────────────┼────────────────────────┼───────────────┤\n",
       "│ dense (\u001b[38;5;33mDense\u001b[0m)                   │ (\u001b[38;5;34m32\u001b[0m, \u001b[38;5;34m1\u001b[0m)                │           \u001b[38;5;34m129\u001b[0m │\n",
       "└─────────────────────────────────┴────────────────────────┴───────────────┘\n"
      ]
     },
     "metadata": {},
     "output_type": "display_data"
    },
    {
     "data": {
      "text/html": [
       "<pre style=\"white-space:pre;overflow-x:auto;line-height:normal;font-family:Menlo,'DejaVu Sans Mono',consolas,'Courier New',monospace\"><span style=\"font-weight: bold\"> Total params: </span><span style=\"color: #00af00; text-decoration-color: #00af00\">1,313,027</span> (5.01 MB)\n",
       "</pre>\n"
      ],
      "text/plain": [
       "\u001b[1m Total params: \u001b[0m\u001b[38;5;34m1,313,027\u001b[0m (5.01 MB)\n"
      ]
     },
     "metadata": {},
     "output_type": "display_data"
    },
    {
     "data": {
      "text/html": [
       "<pre style=\"white-space:pre;overflow-x:auto;line-height:normal;font-family:Menlo,'DejaVu Sans Mono',consolas,'Courier New',monospace\"><span style=\"font-weight: bold\"> Trainable params: </span><span style=\"color: #00af00; text-decoration-color: #00af00\">1,313,025</span> (5.01 MB)\n",
       "</pre>\n"
      ],
      "text/plain": [
       "\u001b[1m Trainable params: \u001b[0m\u001b[38;5;34m1,313,025\u001b[0m (5.01 MB)\n"
      ]
     },
     "metadata": {},
     "output_type": "display_data"
    },
    {
     "data": {
      "text/html": [
       "<pre style=\"white-space:pre;overflow-x:auto;line-height:normal;font-family:Menlo,'DejaVu Sans Mono',consolas,'Courier New',monospace\"><span style=\"font-weight: bold\"> Non-trainable params: </span><span style=\"color: #00af00; text-decoration-color: #00af00\">0</span> (0.00 B)\n",
       "</pre>\n"
      ],
      "text/plain": [
       "\u001b[1m Non-trainable params: \u001b[0m\u001b[38;5;34m0\u001b[0m (0.00 B)\n"
      ]
     },
     "metadata": {},
     "output_type": "display_data"
    },
    {
     "data": {
      "text/html": [
       "<pre style=\"white-space:pre;overflow-x:auto;line-height:normal;font-family:Menlo,'DejaVu Sans Mono',consolas,'Courier New',monospace\"><span style=\"font-weight: bold\"> Optimizer params: </span><span style=\"color: #00af00; text-decoration-color: #00af00\">2</span> (12.00 B)\n",
       "</pre>\n"
      ],
      "text/plain": [
       "\u001b[1m Optimizer params: \u001b[0m\u001b[38;5;34m2\u001b[0m (12.00 B)\n"
      ]
     },
     "metadata": {},
     "output_type": "display_data"
    }
   ],
   "source": [
    "model=load_model('simple_rnn_imdb.h5')\n",
    "model.summary()"
   ]
  },
  {
   "cell_type": "code",
   "execution_count": 5,
   "metadata": {},
   "outputs": [
    {
     "data": {
      "text/plain": [
       "[array([[ 0.04378355, -0.02151811, -0.20552982, ...,  0.4940983 ,\n",
       "          0.02295121,  0.11726877],\n",
       "        [ 0.03851843,  0.03661796,  0.00828806, ..., -0.02368302,\n",
       "         -0.02474091, -0.06579795],\n",
       "        [ 0.03447969, -0.00128819,  0.07584311, ...,  0.0244605 ,\n",
       "         -0.0211102 , -0.04547252],\n",
       "        ...,\n",
       "        [-0.03470345, -0.03861144,  0.01461653, ..., -0.02777796,\n",
       "          0.01556203,  0.00963334],\n",
       "        [-0.08245436, -0.04254714, -0.07701796, ..., -0.01159168,\n",
       "          0.0562453 ,  0.12175288],\n",
       "        [-0.01582701,  0.01299645, -0.02551654, ...,  0.04797094,\n",
       "         -0.08535126, -0.16632067]], dtype=float32),\n",
       " array([[ 0.07710969, -0.09251304, -0.10594244, ...,  0.0073374 ,\n",
       "          0.09244176,  0.12779462],\n",
       "        [-0.12205619,  0.09540769, -0.04500569, ..., -0.0816321 ,\n",
       "         -0.14345233, -0.14755188],\n",
       "        [-0.05204851,  0.11800861,  0.00538501, ..., -0.09411902,\n",
       "         -0.0763678 , -0.16844137],\n",
       "        ...,\n",
       "        [-0.02493866,  0.08061811,  0.00816417, ..., -0.00681738,\n",
       "         -0.02895195, -0.03111875],\n",
       "        [-0.11319989, -0.00616219, -0.13444495, ..., -0.07164272,\n",
       "          0.12042747,  0.00814863],\n",
       "        [ 0.07813703,  0.16574338,  0.15260096, ..., -0.126283  ,\n",
       "         -0.05831541,  0.12576221]], dtype=float32),\n",
       " array([[-0.06788115, -0.0299369 ,  0.00564237, ...,  0.13844182,\n",
       "          0.13840151,  0.13672422],\n",
       "        [ 0.07375491, -0.08437621, -0.02054828, ...,  0.05661594,\n",
       "         -0.06118925, -0.06268317],\n",
       "        [-0.09693833, -0.01434022,  0.09090194, ...,  0.12743257,\n",
       "         -0.16362944, -0.00843929],\n",
       "        ...,\n",
       "        [ 0.0370102 , -0.00089803,  0.00072379, ...,  0.08675446,\n",
       "          0.00954994, -0.08461291],\n",
       "        [ 0.09887765,  0.05872173, -0.09284146, ..., -0.00936192,\n",
       "          0.08866236, -0.08973143],\n",
       "        [-0.04683489,  0.11326938, -0.04579471, ..., -0.0749589 ,\n",
       "          0.04578745,  0.03369182]], dtype=float32),\n",
       " array([-2.25998145e-02,  3.29574337e-03,  1.66631974e-02,  3.46654514e-03,\n",
       "        -2.72372545e-05, -3.84762995e-02,  1.96375232e-03, -2.07867343e-02,\n",
       "         7.61694927e-03,  3.08999792e-03, -1.26399007e-02,  2.16441900e-02,\n",
       "         4.37442772e-03,  5.44755021e-03,  1.56597681e-02, -1.96390804e-02,\n",
       "         1.61906797e-02,  5.08582313e-03,  3.66982929e-02,  1.08655440e-02,\n",
       "         2.06109025e-02, -8.76987632e-03, -3.43551897e-02,  6.26808684e-03,\n",
       "        -1.63490744e-03, -1.21199628e-02, -9.65928379e-03,  1.01708276e-02,\n",
       "        -7.93445017e-03, -3.21199745e-03, -1.76744331e-02, -6.48750784e-03,\n",
       "         2.96378904e-03, -7.31399748e-04,  2.15005167e-02, -9.28780530e-03,\n",
       "        -5.91403572e-03,  1.43090580e-02,  1.37260286e-02, -9.94656794e-03,\n",
       "         3.34626175e-02, -1.33898566e-02, -2.21686382e-02,  2.33969539e-02,\n",
       "         1.30275358e-02, -3.41794677e-02,  2.45306492e-02,  4.08105627e-02,\n",
       "        -5.81274508e-03, -1.26067568e-02, -1.69039275e-02, -2.77848821e-03,\n",
       "         4.80422704e-03, -1.21090636e-02,  7.86709692e-03, -2.11600587e-02,\n",
       "        -8.51772260e-03, -4.62233415e-03,  9.00955219e-03, -4.29176167e-02,\n",
       "         1.62758324e-02,  1.47510711e-02, -3.68742831e-02, -1.89063661e-02,\n",
       "         1.93298794e-02,  1.61794797e-02, -2.03415640e-02,  2.36781756e-03,\n",
       "         2.07855161e-02, -1.33680012e-02, -5.70879178e-03, -1.09034739e-02,\n",
       "         8.75335466e-03, -1.48923900e-02,  2.44999789e-02, -3.05378414e-03,\n",
       "        -5.68031007e-03, -2.11809538e-02,  1.44605115e-02, -4.44281474e-03,\n",
       "         2.13802680e-02,  1.88439226e-04, -1.32966470e-02, -9.23628395e-04,\n",
       "         1.70455296e-02,  1.44564668e-02,  1.22024883e-02,  2.79007852e-03,\n",
       "        -1.95784252e-02, -3.32602076e-02, -4.83882539e-02, -4.18050273e-04,\n",
       "        -2.62638764e-03,  5.12752589e-03,  1.80746131e-02,  3.12884711e-02,\n",
       "        -6.41513558e-04, -1.55365849e-02,  1.57478042e-02, -5.14346967e-03,\n",
       "        -1.96775049e-02,  2.83273985e-03,  1.06440373e-02,  2.59005558e-02,\n",
       "         1.81313567e-02,  7.66165263e-04,  7.05049606e-03,  4.62060980e-03,\n",
       "        -2.85932282e-03, -1.75871458e-02, -3.79934255e-03, -7.16083916e-03,\n",
       "         1.62063427e-02,  1.02942130e-02,  7.69352820e-03, -1.42920036e-02,\n",
       "        -9.11475532e-03, -6.88961148e-03, -3.42202224e-02,  4.62278258e-03,\n",
       "         1.31067596e-02, -6.93401787e-04, -1.60478055e-02, -1.96220931e-02,\n",
       "         6.91307709e-03,  3.80773167e-03, -1.52490353e-02, -5.78894094e-03],\n",
       "       dtype=float32),\n",
       " array([[-0.21952514],\n",
       "        [ 0.18865237],\n",
       "        [-0.0128257 ],\n",
       "        [-0.02911974],\n",
       "        [-0.03541052],\n",
       "        [-0.06174235],\n",
       "        [ 0.07902591],\n",
       "        [-0.04896097],\n",
       "        [-0.19562215],\n",
       "        [ 0.04324624],\n",
       "        [-0.16923302],\n",
       "        [-0.0242216 ],\n",
       "        [ 0.1277121 ],\n",
       "        [ 0.05548625],\n",
       "        [-0.02089929],\n",
       "        [-0.18417127],\n",
       "        [-0.01808642],\n",
       "        [-0.4377447 ],\n",
       "        [-0.21505898],\n",
       "        [ 0.07783833],\n",
       "        [ 0.10766881],\n",
       "        [ 0.15165755],\n",
       "        [-0.1371475 ],\n",
       "        [ 0.07345092],\n",
       "        [ 0.05820588],\n",
       "        [ 0.05226046],\n",
       "        [-0.10602366],\n",
       "        [ 0.07294508],\n",
       "        [-0.11886914],\n",
       "        [ 0.0126532 ],\n",
       "        [ 0.19321708],\n",
       "        [-0.11159533],\n",
       "        [-0.22492445],\n",
       "        [-0.20722015],\n",
       "        [-0.08829484],\n",
       "        [-0.18628028],\n",
       "        [-0.12051148],\n",
       "        [-0.07267427],\n",
       "        [ 0.08812314],\n",
       "        [-0.04754287],\n",
       "        [ 0.07647465],\n",
       "        [ 0.12151778],\n",
       "        [-0.03240259],\n",
       "        [ 0.11096886],\n",
       "        [-0.18424813],\n",
       "        [ 0.05814328],\n",
       "        [ 0.11092357],\n",
       "        [ 0.16428764],\n",
       "        [ 0.05632248],\n",
       "        [-0.1815725 ],\n",
       "        [ 0.06396725],\n",
       "        [ 0.09747421],\n",
       "        [ 0.08136825],\n",
       "        [ 0.01555836],\n",
       "        [ 0.13323975],\n",
       "        [ 0.21057446],\n",
       "        [-0.1978081 ],\n",
       "        [-0.11931653],\n",
       "        [-0.0857363 ],\n",
       "        [ 0.1643102 ],\n",
       "        [-0.19112058],\n",
       "        [-0.04367666],\n",
       "        [-0.27430895],\n",
       "        [ 0.10405342],\n",
       "        [ 0.10565065],\n",
       "        [ 0.04441858],\n",
       "        [ 0.2815299 ],\n",
       "        [ 0.16400357],\n",
       "        [ 0.05809848],\n",
       "        [-0.25150624],\n",
       "        [-0.01134495],\n",
       "        [-0.16614558],\n",
       "        [-0.0233367 ],\n",
       "        [-0.04606451],\n",
       "        [ 0.06222098],\n",
       "        [-0.22696313],\n",
       "        [-0.14204624],\n",
       "        [-0.3364388 ],\n",
       "        [ 0.06192511],\n",
       "        [-0.23265089],\n",
       "        [ 0.14761667],\n",
       "        [-0.22833717],\n",
       "        [ 0.02803225],\n",
       "        [-0.02170752],\n",
       "        [-0.15477717],\n",
       "        [-0.07446542],\n",
       "        [-0.22720549],\n",
       "        [-0.13547027],\n",
       "        [ 0.18203479],\n",
       "        [-0.14653026],\n",
       "        [-0.17387019],\n",
       "        [-0.00404535],\n",
       "        [ 0.10069976],\n",
       "        [-0.09061093],\n",
       "        [-0.14104143],\n",
       "        [ 0.19709045],\n",
       "        [-0.10157108],\n",
       "        [ 0.09253731],\n",
       "        [-0.05877546],\n",
       "        [-0.18106313],\n",
       "        [-0.10735872],\n",
       "        [ 0.07400329],\n",
       "        [ 0.12179873],\n",
       "        [ 0.01235474],\n",
       "        [ 0.24363127],\n",
       "        [-0.0810139 ],\n",
       "        [-0.09523734],\n",
       "        [ 0.007006  ],\n",
       "        [-0.3914307 ],\n",
       "        [-0.06831905],\n",
       "        [ 0.20694676],\n",
       "        [-0.1712942 ],\n",
       "        [-0.06140122],\n",
       "        [ 0.04011486],\n",
       "        [-0.38270548],\n",
       "        [ 0.08215352],\n",
       "        [-0.1543983 ],\n",
       "        [ 0.1578584 ],\n",
       "        [ 0.1639717 ],\n",
       "        [-0.22269471],\n",
       "        [ 0.1240483 ],\n",
       "        [-0.12058108],\n",
       "        [-0.16774051],\n",
       "        [ 0.19133641],\n",
       "        [-0.00976757],\n",
       "        [-0.11645482],\n",
       "        [-0.17309493],\n",
       "        [-0.2237086 ]], dtype=float32),\n",
       " array([-0.38443732], dtype=float32)]"
      ]
     },
     "execution_count": 5,
     "metadata": {},
     "output_type": "execute_result"
    }
   ],
   "source": [
    "model.get_weights()"
   ]
  },
  {
   "cell_type": "code",
   "execution_count": 6,
   "metadata": {},
   "outputs": [],
   "source": [
    "def decode_review(encode_review):\n",
    "    return ''.join([reverse_word_index.get(i-3,'?') for i in encode_review])\n",
    "\n",
    "def preprocess_text(text):\n",
    "    words=text.lower().split()\n",
    "    encode_review=[word_index.get(word,2)+3 for word in words]\n",
    "    padded_review=sequence.pad_sequences([encode_review],maxlen=500)\n",
    "    return padded_review"
   ]
  },
  {
   "cell_type": "code",
   "execution_count": 12,
   "metadata": {},
   "outputs": [],
   "source": [
    "#prediction function\n",
    "\n",
    "def prediction_sentiment(review):\n",
    "    preprocessed_input=preprocess_text(review)\n",
    "    prediction=model.predict(preprocessed_input)\n",
    "    sentiment='Positive' if prediction[0][0] < 0.5 else 'Negative'\n",
    "    return sentiment,prediction[0][0]"
   ]
  },
  {
   "cell_type": "code",
   "execution_count": 13,
   "metadata": {},
   "outputs": [
    {
     "name": "stdout",
     "output_type": "stream",
     "text": [
      "\u001b[1m1/1\u001b[0m \u001b[32m━━━━━━━━━━━━━━━━━━━━\u001b[0m\u001b[37m\u001b[0m \u001b[1m0s\u001b[0m 129ms/step\n",
      "review: this movie was boring! the acting was not great and the plot was not thrilling.\n",
      "sentiment: Positive\n",
      "prediction score: 0.17762692272663116\n"
     ]
    }
   ],
   "source": [
    "example_review=\"this movie was boring! the acting was not great and the plot was not thrilling.\"\n",
    "sentiment,score=prediction_sentiment(example_review)\n",
    "print(f'review: {example_review}')\n",
    "print(f'sentiment: {sentiment}')\n",
    "print(f'prediction score: {score}')"
   ]
  }
 ],
 "metadata": {
  "kernelspec": {
   "display_name": "myenv",
   "language": "python",
   "name": "python3"
  },
  "language_info": {
   "codemirror_mode": {
    "name": "ipython",
    "version": 3
   },
   "file_extension": ".py",
   "mimetype": "text/x-python",
   "name": "python",
   "nbconvert_exporter": "python",
   "pygments_lexer": "ipython3",
   "version": "3.12.3"
  }
 },
 "nbformat": 4,
 "nbformat_minor": 2
}
