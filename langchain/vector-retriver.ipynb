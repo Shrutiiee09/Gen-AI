{
 "cells": [
  {
   "cell_type": "code",
   "execution_count": 1,
   "metadata": {},
   "outputs": [
    {
     "data": {
      "text/plain": [
       "[Document(metadata={'source': 'mammmle-pets-doc'}, page_content='Dogs are great companion, known for thei true loyalty and friendliness.'),\n",
       " Document(metadata={'source': 'mammmle-pets-doc'}, page_content='cats are independent pets that often enjoy their own space.'),\n",
       " Document(metadata={'source': 'fish-pets-doc'}, page_content='Goldfish are popular pets for beginners, requiring relatively simple care'),\n",
       " Document(metadata={'source': 'bird-pets-doc'}, page_content='parrots are intelligent birds capable of mimicking human speech'),\n",
       " Document(metadata={'source': 'mammal-pets-doc'}, page_content='rabbits are social animals that need plenty of space to hop around')]"
      ]
     },
     "execution_count": 1,
     "metadata": {},
     "output_type": "execute_result"
    }
   ],
   "source": [
    "from langchain_core.documents import Document \n",
    "documents=[\n",
    "    Document(\n",
    "        page_content=\"Dogs are great companion, known for thei true loyalty and friendliness.\",\n",
    "        metadata={\"source\":\"mammmle-pets-doc\"},\n",
    "    ),\n",
    "    Document(\n",
    "        page_content=\"cats are independent pets that often enjoy their own space.\",\n",
    "        metadata={\"source\":\"mammmle-pets-doc\"},\n",
    "    ),\n",
    "    Document(\n",
    "        page_content=\"Goldfish are popular pets for beginners, requiring relatively simple care\",\n",
    "        metadata={\"source\":\"fish-pets-doc\"},\n",
    "    ),\n",
    "    Document(\n",
    "        page_content=\"parrots are intelligent birds capable of mimicking human speech\",\n",
    "        metadata={\"source\":\"bird-pets-doc\"},\n",
    "    ),\n",
    "       Document(\n",
    "        page_content=\"rabbits are social animals that need plenty of space to hop around\",\n",
    "        metadata={\"source\":\"mammal-pets-doc\"},\n",
    "    ),\n",
    "]\n",
    "documents"
   ]
  },
  {
   "cell_type": "code",
   "execution_count": 2,
   "metadata": {},
   "outputs": [
    {
     "data": {
      "text/plain": [
       "ChatGroq(client=<groq.resources.chat.completions.Completions object at 0x000001B87541CF50>, async_client=<groq.resources.chat.completions.AsyncCompletions object at 0x000001B87541D9A0>, model_name='Llama3-8b-8192', model_kwargs={}, groq_api_key=SecretStr('**********'))"
      ]
     },
     "execution_count": 2,
     "metadata": {},
     "output_type": "execute_result"
    }
   ],
   "source": [
    "import os\n",
    "from dotenv import load_dotenv\n",
    "from langchain_groq import ChatGroq\n",
    "load_dotenv()\n",
    "groq_api_key=os.getenv(\"GROQ_API_KEY\")\n",
    "os.environ[\"HF_TOKEN\"]=os.getenv(\"HF_TOKEN\")\n",
    "llm=ChatGroq(groq_api_key=groq_api_key,model=\"Llama3-8b-8192\")\n",
    "llm\n"
   ]
  },
  {
   "cell_type": "code",
   "execution_count": 3,
   "metadata": {},
   "outputs": [
    {
     "name": "stderr",
     "output_type": "stream",
     "text": [
      "d:\\GenAI\\myenv\\Lib\\site-packages\\tqdm\\auto.py:21: TqdmWarning: IProgress not found. Please update jupyter and ipywidgets. See https://ipywidgets.readthedocs.io/en/stable/user_install.html\n",
      "  from .autonotebook import tqdm as notebook_tqdm\n"
     ]
    }
   ],
   "source": [
    "from langchain_huggingface import HuggingFaceEmbeddings\n",
    "embeddings=HuggingFaceEmbeddings(model_name=\"all-MiniLM-L6-v2\")\n"
   ]
  },
  {
   "cell_type": "code",
   "execution_count": 4,
   "metadata": {},
   "outputs": [
    {
     "data": {
      "text/plain": [
       "<langchain_community.vectorstores.faiss.FAISS at 0x1b825aeb890>"
      ]
     },
     "execution_count": 4,
     "metadata": {},
     "output_type": "execute_result"
    }
   ],
   "source": [
    "from langchain.vectorstores import FAISS\n",
    "vectorstore=FAISS.from_documents(documents,embedding=embeddings)\n",
    "vectorstore\n"
   ]
  },
  {
   "cell_type": "code",
   "execution_count": 5,
   "metadata": {},
   "outputs": [
    {
     "data": {
      "text/plain": [
       "[Document(id='20887473-fa13-45c0-a702-6fe9d5f1a444', metadata={'source': 'mammmle-pets-doc'}, page_content='cats are independent pets that often enjoy their own space.'),\n",
       " Document(id='8537c2a6-dece-4276-abdd-fcf441017ed6', metadata={'source': 'mammal-pets-doc'}, page_content='rabbits are social animals that need plenty of space to hop around'),\n",
       " Document(id='20e0376b-09e6-4999-af94-53d143c640d9', metadata={'source': 'mammmle-pets-doc'}, page_content='Dogs are great companion, known for thei true loyalty and friendliness.'),\n",
       " Document(id='0f74e06b-7591-430c-b28a-b98142399bc8', metadata={'source': 'bird-pets-doc'}, page_content='parrots are intelligent birds capable of mimicking human speech')]"
      ]
     },
     "execution_count": 5,
     "metadata": {},
     "output_type": "execute_result"
    }
   ],
   "source": [
    "vectorstore.similarity_search(\"cat\")"
   ]
  },
  {
   "cell_type": "markdown",
   "metadata": {},
   "source": [
    "Retrievers"
   ]
  },
  {
   "cell_type": "code",
   "execution_count": 6,
   "metadata": {},
   "outputs": [
    {
     "data": {
      "text/plain": [
       "[[Document(id='20887473-fa13-45c0-a702-6fe9d5f1a444', metadata={'source': 'mammmle-pets-doc'}, page_content='cats are independent pets that often enjoy their own space.')],\n",
       " [Document(id='20e0376b-09e6-4999-af94-53d143c640d9', metadata={'source': 'mammmle-pets-doc'}, page_content='Dogs are great companion, known for thei true loyalty and friendliness.')]]"
      ]
     },
     "execution_count": 6,
     "metadata": {},
     "output_type": "execute_result"
    }
   ],
   "source": [
    "from typing import List\n",
    "from langchain_core.documents import Document\n",
    "from langchain_core.runnables import RunnableLambda\n",
    "\n",
    "retriever=RunnableLambda(vectorstore.similarity_search).bind(k=1)\n",
    "retriever.batch([\"cat\",\"dog\"])"
   ]
  },
  {
   "cell_type": "code",
   "execution_count": 7,
   "metadata": {},
   "outputs": [
    {
     "data": {
      "text/plain": [
       "[[Document(id='20887473-fa13-45c0-a702-6fe9d5f1a444', metadata={'source': 'mammmle-pets-doc'}, page_content='cats are independent pets that often enjoy their own space.')],\n",
       " [Document(id='20e0376b-09e6-4999-af94-53d143c640d9', metadata={'source': 'mammmle-pets-doc'}, page_content='Dogs are great companion, known for thei true loyalty and friendliness.')]]"
      ]
     },
     "execution_count": 7,
     "metadata": {},
     "output_type": "execute_result"
    }
   ],
   "source": [
    "retriever=vectorstore.as_retriever(\n",
    "    search_type=\"similarity\",\n",
    "    search_kwargs={\"k\":1}\n",
    ")\n",
    "retriever.batch([\"cat\",\"dog\"])"
   ]
  },
  {
   "cell_type": "code",
   "execution_count": 8,
   "metadata": {},
   "outputs": [
    {
     "name": "stdout",
     "output_type": "stream",
     "text": [
      "According to the context, dogs are great companions, known for their true loyalty and friendliness.\n"
     ]
    }
   ],
   "source": [
    "from langchain_core.prompts import ChatPromptTemplate\n",
    "from langchain_core.runnables import RunnablePassthrough\n",
    "\n",
    "message=\"\"\"\n",
    "Answer this question using the provided context only.\n",
    "{question}\n",
    "context:\n",
    "{context}\n",
    "\"\"\"\n",
    "prompt=ChatPromptTemplate.from_messages([(\"human\",message)])\n",
    "rag_chain={\"context\":retriever,\"question\":RunnablePassthrough()}|prompt|llm\n",
    "response=rag_chain.invoke(\"tell me about dogs\")\n",
    "print(response.content)"
   ]
  },
  {
   "cell_type": "code",
   "execution_count": null,
   "metadata": {},
   "outputs": [],
   "source": []
  }
 ],
 "metadata": {
  "kernelspec": {
   "display_name": "myenv",
   "language": "python",
   "name": "python3"
  },
  "language_info": {
   "codemirror_mode": {
    "name": "ipython",
    "version": 3
   },
   "file_extension": ".py",
   "mimetype": "text/x-python",
   "name": "python",
   "nbconvert_exporter": "python",
   "pygments_lexer": "ipython3",
   "version": "3.12.3"
  }
 },
 "nbformat": 4,
 "nbformat_minor": 2
}
